{
  "nbformat": 4,
  "nbformat_minor": 0,
  "metadata": {
    "colab": {
      "provenance": [],
      "authorship_tag": "ABX9TyNqicWKHsotT1SJOfCmQQJq",
      "include_colab_link": true
    },
    "kernelspec": {
      "name": "python3",
      "display_name": "Python 3"
    },
    "language_info": {
      "name": "python"
    }
  },
  "cells": [
    {
      "cell_type": "markdown",
      "metadata": {
        "id": "view-in-github",
        "colab_type": "text"
      },
      "source": [
        "<a href=\"https://colab.research.google.com/github/Koanah/SentimentAnalysis/blob/main/GRU.ipynb\" target=\"_parent\"><img src=\"https://colab.research.google.com/assets/colab-badge.svg\" alt=\"Open In Colab\"/></a>"
      ]
    },
    {
      "cell_type": "code",
      "execution_count": 1,
      "metadata": {
        "id": "7xYas26LDI4z"
      },
      "outputs": [],
      "source": [
        "# Step 1: Load and preprocess data\n",
        "import pandas as pd\n",
        "import re\n",
        "import numpy as np\n",
        "from sklearn.model_selection import train_test_split\n",
        "from sklearn.metrics import classification_report, accuracy_score\n",
        "import tensorflow as tf\n",
        "from tensorflow.keras.preprocessing.text import Tokenizer\n",
        "from tensorflow.keras.preprocessing.sequence import pad_sequences\n",
        "from tensorflow.keras.models import Sequential\n",
        "from tensorflow.keras.layers import Embedding, GRU, Dense, Dropout\n"
      ]
    },
    {
      "cell_type": "code",
      "source": [
        "#Load dataset\n",
        "filename = \"/content/sentiment_dataset.csv\"\n",
        "columns = [\"target\", \"ids\", \"date\", \"flag\", \"user\", \"text\"]\n",
        "data = pd.read_csv(filename, encoding=\"ISO-8859-1\", names=columns)\n",
        "print(data['target'].unique())"
      ],
      "metadata": {
        "id": "kBTUNwq9GvXf"
      },
      "execution_count": null,
      "outputs": []
    },
    {
      "cell_type": "code",
      "source": [
        "# Only keep 0 and 4 labels\n",
        "data = data[data['target'].isin([0, 4])]\n",
        "\n",
        "# Convert 4 to 1 (so 0 = negative, 1 = positive)\n",
        "data['target'] = data['target'].replace({4: 1})\n",
        "\n",
        "print(\"Label distribution:\")\n",
        "print(data['target'].value_counts())"
      ],
      "metadata": {
        "id": "-oPiHKdkJck7"
      },
      "execution_count": null,
      "outputs": []
    },
    {
      "cell_type": "code",
      "source": [
        "# Preprocess text\n",
        "def clean_text(text):\n",
        "    text = text.lower()\n",
        "    text = re.sub(r'@[\\w]+', '', text)  # remove mentions\n",
        "    text = re.sub(r'http\\S+|www\\S+|https\\S+', '', text, flags=re.MULTILINE)  # remove URLs\n",
        "    text = re.sub(r'#', '', text)  # remove hashtag symbol\n",
        "    text = re.sub(r'\\s+', ' ', text).strip()  # remove extra whitespace\n",
        "    return text\n",
        "\n",
        "df['text'] = df['text'].apply(clean_text)"
      ],
      "metadata": {
        "id": "4sma-fwnG9xD"
      },
      "execution_count": null,
      "outputs": []
    },
    {
      "cell_type": "code",
      "source": [
        "# Step 2: Tokenize and pad sequences\n",
        "tokenizer = Tokenizer(num_words=50000, oov_token=\"<OOV>\")\n",
        "tokenizer.fit_on_texts(df['text'])\n",
        "sequences = tokenizer.texts_to_sequences(df['text'])\n",
        "\n",
        "maxlen = 100  # max length of input sequences\n",
        "padded = pad_sequences(sequences, maxlen=maxlen, padding='post', truncating='post')"
      ],
      "metadata": {
        "id": "40HihxURHBpr"
      },
      "execution_count": null,
      "outputs": []
    },
    {
      "cell_type": "code",
      "source": [
        "# Step 3: Train/test split\n",
        "X = padded\n",
        "y = df['target'].values\n",
        "X_train, X_test, y_train, y_test = train_test_split(X, y, test_size=0.2, random_state=42)"
      ],
      "metadata": {
        "id": "luUdFOuvHGLS"
      },
      "execution_count": null,
      "outputs": []
    },
    {
      "cell_type": "code",
      "source": [
        "# Step 4: Build GRU model\n",
        "model = Sequential()\n",
        "model.add(Embedding(input_dim=50000, output_dim=64, input_length=maxlen))\n",
        "model.add(GRU(64, return_sequences=False))\n",
        "model.add(Dropout(0.5))\n",
        "model.add(Dense(1, activation='sigmoid'))\n",
        "\n",
        "model.compile(loss='binary_crossentropy', optimizer='adam', metrics=['accuracy'])\n",
        "model.summary()"
      ],
      "metadata": {
        "id": "cbGH4g3pHMPy"
      },
      "execution_count": null,
      "outputs": []
    },
    {
      "cell_type": "code",
      "source": [
        "# Step 5: Train the model\n",
        "history = model.fit(X_train, y_train, epochs=4, batch_size=128, validation_data=(X_test, y_test))"
      ],
      "metadata": {
        "id": "j8LIKMA1HW-9"
      },
      "execution_count": null,
      "outputs": []
    },
    {
      "cell_type": "code",
      "source": [
        "# Step 6: Evaluate the model\n",
        "y_pred = (model.predict(X_test) > 0.5).astype(\"int32\")\n",
        "\n",
        "print(\"\\nAccuracy:\", accuracy_score(y_test, y_pred))\n",
        "print(\"\\nClassification Report:\\n\", classification_report(y_test, y_pred))"
      ],
      "metadata": {
        "id": "7PFAXB9QHZ1C"
      },
      "execution_count": null,
      "outputs": []
    }
  ]
}